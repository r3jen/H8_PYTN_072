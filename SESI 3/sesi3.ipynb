{
 "cells": [
  {
   "cell_type": "code",
   "execution_count": 4,
   "source": [
    "def salam():\n",
    "    print(\"tes\")"
   ],
   "outputs": [],
   "metadata": {}
  },
  {
   "cell_type": "code",
   "execution_count": 6,
   "source": [
    "salam()"
   ],
   "outputs": [
    {
     "output_type": "stream",
     "name": "stdout",
     "text": [
      "tes\n"
     ]
    }
   ],
   "metadata": {}
  },
  {
   "cell_type": "code",
   "execution_count": 7,
   "source": [
    "def salamOrang(nama,usia):\n",
    "    print(\"selmat {} usia anda sekarang {}\".format(nama,usia))"
   ],
   "outputs": [],
   "metadata": {}
  },
  {
   "cell_type": "code",
   "execution_count": 9,
   "source": [
    "salamOrang(\"reza\",32)"
   ],
   "outputs": [
    {
     "output_type": "stream",
     "name": "stdout",
     "text": [
      "selmat reza usia anda sekarang 32\n"
     ]
    }
   ],
   "metadata": {}
  },
  {
   "cell_type": "code",
   "execution_count": 11,
   "source": [
    "def tambah(angka1,angka2):\n",
    "    return angka1 + angka2"
   ],
   "outputs": [],
   "metadata": {}
  },
  {
   "cell_type": "markdown",
   "source": [],
   "metadata": {}
  },
  {
   "cell_type": "code",
   "execution_count": 13,
   "source": [
    "tambah(1,2)"
   ],
   "outputs": [
    {
     "output_type": "execute_result",
     "data": {
      "text/plain": [
       "3"
      ]
     },
     "metadata": {},
     "execution_count": 13
    }
   ],
   "metadata": {}
  },
  {
   "cell_type": "code",
   "execution_count": 15,
   "source": [
    "tesLambda = lambda angka1,angka2 : angka1+angka2"
   ],
   "outputs": [],
   "metadata": {}
  },
  {
   "cell_type": "code",
   "execution_count": 17,
   "source": [
    "tesLambda(1,2)"
   ],
   "outputs": [
    {
     "output_type": "execute_result",
     "data": {
      "text/plain": [
       "3"
      ]
     },
     "metadata": {},
     "execution_count": 17
    }
   ],
   "metadata": {}
  },
  {
   "cell_type": "code",
   "execution_count": 20,
   "source": [
    "hargaApel = 10000\n",
    "hargaJeruk = 15000\n",
    "hargaAnggur = 20000\n",
    "\n",
    "stockApel = 5\n",
    "stockJeruk = 7\n",
    "stockAnggur = 6\n",
    "\n",
    "while(True) :\n",
    "    jumlahApel = int(input('Masukkan Jumlah Apel : '))\n",
    "    if(jumlahApel > stockApel) :\n",
    "        print('Jumlah yang dimasukkan terlalu banyak \\nStock Apel tinggal : ' + str(stockApel))\n",
    "    else :\n",
    "        break\n",
    "while(True) :\n",
    "    jumlahJeruk = int(input('Masukkan Jumlah Jeruk : '))\n",
    "    if(jumlahJeruk > stockJeruk) :\n",
    "        print('Jumlah yang dimasukkan terlalu banyak \\nStock Jeruk tinggal : ' + str(stockJeruk))\n",
    "    else :\n",
    "        break\n",
    "while(True) :\n",
    "    jumlahAnggur = int(input('Masukkan Jumlah Anggur : '))\n",
    "    if(jumlahAnggur > stockAnggur) :\n",
    "        print('Jumlah yang dimasukkan terlalu banyak \\nStock Anggur tinggal : ' + str(stockAnggur))\n",
    "    else :\n",
    "        break\n",
    "\n",
    "totalHargaApel = jumlahApel * hargaApel\n",
    "totalHargaJeruk = jumlahJeruk * hargaJeruk\n",
    "totalHargaAnggur = jumlahAnggur * hargaAnggur\n",
    "totalHarga = totalHargaAnggur+totalHargaApel+totalHargaJeruk\n",
    "\n",
    "print('''\n",
    "    Detail Belanja\n",
    "\n",
    "    Apel : {jmlApel} x {hrgApel} = {totalHrgApel}\n",
    "    Jeruk : {jmlJeruk} x {hrgJeruk} = {totalHrgJeruk}\n",
    "    Anggur : {jmlAnggur} x {hrgAnggur} = {totalHrgAnggur}\n",
    "\n",
    "    Total : {totalHarga}\n",
    "    '''.format(jmlApel=jumlahApel, hrgApel=hargaApel, totalHrgApel=totalHargaApel, \n",
    "        jmlJeruk=jumlahJeruk, hrgJeruk=hargaJeruk, totalHrgJeruk=totalHargaJeruk,\n",
    "        jmlAnggur=jumlahAnggur, hrgAnggur=hargaAnggur, totalHrgAnggur=totalHargaAnggur,\n",
    "        totalHarga=totalHarga))\n",
    "\n",
    "while(True) :\n",
    "    jmlUang = int(input('Masukkan jumlah uang : '))\n",
    "\n",
    "    if(jmlUang > totalHarga) :\n",
    "        kembali = jmlUang - totalHarga\n",
    "        print('Terima kasih \\n\\nUang kembali anda : {}'.format(kembali))\n",
    "        break\n",
    "    elif(jmlUang == totalHarga) :\n",
    "        print('Terima kasih')\n",
    "        break\n",
    "    else :\n",
    "        kekurangan = totalHarga - jmlUang\n",
    "        print('Uang anda kurang sebesar {}'.format(kekurangan))"
   ],
   "outputs": [
    {
     "output_type": "stream",
     "name": "stdout",
     "text": [
      "\n",
      "    Detail Belanja\n",
      "\n",
      "    Apel : 3 x 10000 = 30000\n",
      "    Jeruk : 3 x 15000 = 45000\n",
      "    Anggur : 3 x 20000 = 60000\n",
      "\n",
      "    Total : 135000\n",
      "    \n",
      "Uang anda kurang sebesar 134997\n",
      "Uang anda kurang sebesar 134997\n",
      "Uang anda kurang sebesar 134997\n",
      "Uang anda kurang sebesar 134997\n",
      "Uang anda kurang sebesar 120000\n",
      "Terima kasih \n",
      "\n",
      "Uang kembali anda : 1365000\n"
     ]
    }
   ],
   "metadata": {}
  },
  {
   "cell_type": "code",
   "execution_count": 19,
   "source": [
    "pilihan=\"y\"\n",
    "while pilihan==\"y\":\n",
    "    print(\"\"\"\n",
    "    ==============================\n",
    "    \n",
    "    Ananda Coffe\n",
    "    List Menu Minuman Kopi \n",
    "\n",
    "    ==============================\n",
    "    A. ES Kopi Susu : Rp 11.000\n",
    "    B. ES Kopi Coklat : Rp 12.000\n",
    "    C. ES Kopi Hitam : Rp 11.000\n",
    "    D. Ice Americano : Rp 14.000\n",
    "    ==============================\n",
    "    \"\"\")\n",
    "    pesan=str(input(\"masukkan list abjad menu kopi =\"))\n",
    "    jumlahpesan=int(input(\"masukkan jumlah pesanan =\"))\n",
    "    if pesan == \"a\":\n",
    "        listnama= \"ES Kopi Susu\"\n",
    "        harga=(11000*jumlahpesan)\n",
    "        ppn= int(harga * 0.1)\n",
    "        if jumlahpesan >= 5:\n",
    "            diskon = int(harga*0.2)\n",
    "            totalharga=int(harga-diskon+ppn)\n",
    "        else:\n",
    "            diskon =(0)\n",
    "            totalharga=int(harga+ppn)\n",
    "    elif pesan == \"b\":\n",
    "        listnama= \"ES Kopi Coklat\"\n",
    "        harga = (12000*jumlahpesan)\n",
    "        ppn = int(harga * 0.1)\n",
    "        if jumlahpesan >= 5:\n",
    "            diskon = int(harga * 0.2)\n",
    "            totalharga =int(harga-diskon+ppn)\n",
    "        else:\n",
    "            diskon =(0)\n",
    "            totalharga =int(harga+ppn)\n",
    "    elif pesan == \"c\":\n",
    "        listnama= \"ES Kopi Hitam\"\n",
    "        harga=int(11000*jumlahpesan)\n",
    "        ppn = int(harga * 0.1)\n",
    "        diskon=0\n",
    "        totalharga=int(harga+ppn)\n",
    "    elif pesan == \"d\":\n",
    "        listnama= \"ES Americano\"\n",
    "        harga=int(14000*jumlahpesan)\n",
    "        ppn = int(harga * 0.1)\n",
    "        diskon=0\n",
    "        totalharga = int(harga+ppn)\n",
    "    else:\n",
    "        listnama = \"-\"\n",
    "        harga = \"-\"\n",
    "        ppn = \"-\"\n",
    "        diskon = \"-\"\n",
    "        totalharga = \"-\"\n",
    "        pilihan=input(\"menu tidak tersedia, silahkan masukkan abjad menu yang tersedia silahkan ulangi kembali Y/N =\")\n",
    "\n",
    "    print(\"--------------------------\")\n",
    "    print(\"Ananda Coffe\")\n",
    "    print(\"--------------------------\")\n",
    "    print(\"Menu :\",listnama)\n",
    "    print(\"Jumlah Pesan :\", jumlahpesan)\n",
    "    print(\"Harga :\", harga)\n",
    "    print(\"Diskon :\", diskon)\n",
    "    print(\"PPN :\", ppn)\n",
    "    print(\"--------------------------\")\n",
    "    print(\"Jumlah Bayar :\", totalharga)\n",
    "    print(\"--------------------------\")\n",
    "    pilihan=input(\"apakah anda ingin order kembali Y/N =\")"
   ],
   "outputs": [
    {
     "output_type": "stream",
     "name": "stdout",
     "text": [
      "\n",
      "    ==============================\n",
      "    \n",
      "    Ananda Coffe\n",
      "    List Menu Minuman Kopi \n",
      "\n",
      "    ==============================\n",
      "    A. ES Kopi Susu : Rp 11.000\n",
      "    B. ES Kopi Coklat : Rp 12.000\n",
      "    C. ES Kopi Hitam : Rp 11.000\n",
      "    D. Ice Americano : Rp 14.000\n",
      "    ==============================\n",
      "    \n",
      "--------------------------\n",
      "Ananda Coffe\n",
      "--------------------------\n",
      "Menu : ES Kopi Susu\n",
      "Jumlah Pesan : 10\n",
      "Harga : 110000\n",
      "Diskon : 22000\n",
      "PPN : 11000\n",
      "--------------------------\n",
      "Jumlah Bayar : 99000\n",
      "--------------------------\n"
     ]
    }
   ],
   "metadata": {}
  },
  {
   "cell_type": "code",
   "execution_count": null,
   "source": [],
   "outputs": [],
   "metadata": {}
  }
 ],
 "metadata": {
  "orig_nbformat": 4,
  "language_info": {
   "name": "python",
   "version": "3.8.9",
   "mimetype": "text/x-python",
   "codemirror_mode": {
    "name": "ipython",
    "version": 3
   },
   "pygments_lexer": "ipython3",
   "nbconvert_exporter": "python",
   "file_extension": ".py"
  },
  "kernelspec": {
   "name": "python3",
   "display_name": "Python 3.8.9 64-bit"
  },
  "interpreter": {
   "hash": "31f2aee4e71d21fbe5cf8b01ff0e069b9275f58929596ceb00d14d90e3e16cd6"
  }
 },
 "nbformat": 4,
 "nbformat_minor": 2
}
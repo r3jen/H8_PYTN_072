{
 "cells": [
  {
   "cell_type": "markdown",
   "source": [
    "<h2>SOAL NO 1"
   ],
   "metadata": {}
  },
  {
   "cell_type": "code",
   "execution_count": null,
   "source": [
    "x=4\n",
    "y=3\n",
    "z=2\n",
    "\n",
    "w=((x+y*z)/(x*y))**z\n",
    "print (w)"
   ],
   "outputs": [],
   "metadata": {}
  },
  {
   "cell_type": "markdown",
   "source": [
    "<h2>SOAL NO 2"
   ],
   "metadata": {}
  },
  {
   "cell_type": "code",
   "execution_count": null,
   "source": [
    "defaultNumber = 2\n",
    "inputNumber = int(input(\"Silahkan masukkan angka berapapun :\"))\n",
    "resultNumber = inputNumber**defaultNumber\n",
    "print(resultNumber)"
   ],
   "outputs": [],
   "metadata": {}
  },
  {
   "cell_type": "markdown",
   "source": [
    "<h2>SOAL NO 3"
   ],
   "metadata": {}
  },
  {
   "cell_type": "code",
   "execution_count": null,
   "source": [
    "getNumberDays = int(input(\"Masukkan hari yang ingin di convert :\"))\n",
    "\n",
    "getYears = getNumberDays // 360\n",
    "getMonths = (getNumberDays - getYears *360) // 30\n",
    "getDays = (getNumberDays - getYears * 360 - getMonths*30)\n",
    "finalResult = (\"{} Tahun {} Bulan & {} Hari\").format(getYears,getMonths,getDays)\n",
    "\n",
    "print(finalResult)"
   ],
   "outputs": [],
   "metadata": {}
  },
  {
   "cell_type": "code",
   "execution_count": null,
   "source": [],
   "outputs": [],
   "metadata": {}
  },
  {
   "cell_type": "code",
   "execution_count": null,
   "source": [],
   "outputs": [],
   "metadata": {}
  },
  {
   "cell_type": "code",
   "execution_count": null,
   "source": [],
   "outputs": [],
   "metadata": {}
  },
  {
   "cell_type": "code",
   "execution_count": null,
   "source": [],
   "outputs": [],
   "metadata": {}
  }
 ],
 "metadata": {
  "orig_nbformat": 4,
  "language_info": {
   "name": "python"
  }
 },
 "nbformat": 4,
 "nbformat_minor": 2
}
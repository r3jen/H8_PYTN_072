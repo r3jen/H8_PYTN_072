{
 "cells": [
  {
   "cell_type": "code",
   "execution_count": 7,
   "source": [
    "x = 4\n",
    "if x>7:\n",
    "    print(\"benar\")"
   ],
   "outputs": [],
   "metadata": {}
  },
  {
   "cell_type": "code",
   "execution_count": 6,
   "source": [
    "x = 9\n",
    "if x<7:\n",
    "    print(\"benar\")\n",
    "else:\n",
    "    print(\"salah\")"
   ],
   "outputs": [
    {
     "output_type": "stream",
     "name": "stdout",
     "text": [
      "salah\n"
     ]
    }
   ],
   "metadata": {}
  },
  {
   "cell_type": "code",
   "execution_count": 13,
   "source": [
    "x = int(input(\"masukkan point anda\"))\n",
    "\n",
    "if x<60:\n",
    "    print(\"Nilai F\")\n",
    "elif x<80:\n",
    "    print(\"Nilai E\")\n",
    "elif x<90:\n",
    "    print(\"Nilai C\")\n",
    "elif x<=100:\n",
    "    print(\"nilai a\")\n",
    "else:\n",
    "    print(\"cek\")\n"
   ],
   "outputs": [
    {
     "output_type": "stream",
     "name": "stdout",
     "text": [
      "Nilai E\n"
     ]
    }
   ],
   "metadata": {}
  },
  {
   "cell_type": "markdown",
   "source": [
    "<h2> Exercise Soal 1"
   ],
   "metadata": {}
  },
  {
   "cell_type": "code",
   "execution_count": 16,
   "source": [
    "x = int(input(\"masukkan angka\"))\n",
    "\n",
    "if x%2 == 0:\n",
    "    print(\"bilangan genap\")\n",
    "else:\n",
    "    print(\"bilangan ganjil\")"
   ],
   "outputs": [
    {
     "output_type": "stream",
     "name": "stdout",
     "text": [
      "bilangan genap\n"
     ]
    }
   ],
   "metadata": {}
  },
  {
   "cell_type": "markdown",
   "source": [
    "<h2> Exercise Soal 2"
   ],
   "metadata": {}
  },
  {
   "cell_type": "code",
   "execution_count": 30,
   "source": [
    "massa = int(input(\"masukkan massa\"))\n",
    "tinggi = int(input(\"masukkan tinggi\"))\n",
    "\n",
    "imt = (massa/((tinggi/100)**2))\n",
    "print(imt)\n",
    "\n",
    "if imt < 18.5:\n",
    "    print(\"berat badan kurang\")\n",
    "elif imt <= 24.9:\n",
    "    print(\"berat badan ideal\")\n",
    "elif imt <= 29.9:\n",
    "    print(\"berat badan berlebih\")\n",
    "elif imt <=39.9:\n",
    "    print(\"berat badan sangat berlebih\")\n",
    "else:\n",
    "    print(\"obesitas\")\n",
    "\n"
   ],
   "outputs": [
    {
     "output_type": "stream",
     "name": "stdout",
     "text": [
      "26.989619377162633\n",
      "berat badan berlebih\n"
     ]
    }
   ],
   "metadata": {}
  },
  {
   "cell_type": "markdown",
   "source": [
    "<h2> Exercise Soal 3"
   ],
   "metadata": {}
  },
  {
   "cell_type": "code",
   "execution_count": 36,
   "source": [
    "inputApel = int(input(\"Masukkan Jumlah Apel :\"))\n",
    "inputJeruk = int(input(\"Masukkan Jumlah Jeruk :\"))\n",
    "inputAnggur = int(input(\"Masukkan Jumlah Anggur :\"))\n",
    "\n",
    "apel = 10000\n",
    "jeruk = 15000\n",
    "anggur = 20000\n",
    "\n",
    "finalResult = (inputApel * apel) + (inputJeruk*jeruk) + (inputAnggur * anggur)\n",
    "\n",
    "inputMasukanJumlahUang = int(input(\"Masukkan Jumlah Uang :\"))\n",
    "hasilSelisih = finalResult - inputMasukanJumlahUang\n",
    "\n",
    "if inputMasukanJumlahUang < finalResult:\n",
    "    hasil1 = (\"transaksi anda dibatalkan uang kurang {}\").format(hasilSelisih)\n",
    "    print(hasil1)\n",
    "elif inputMasukanJumlahUang==finalResult:\n",
    "    print(\"Terima kasih\")\n",
    "elif inputMasukanJumlahUang > finalResult:\n",
    "    hasil2 = (\"uang kembalian anda : {}\").format(hasilSelisih)  \n",
    "    print(hasil2)"
   ],
   "outputs": [
    {
     "output_type": "stream",
     "name": "stdout",
     "text": [
      "uang kembalian anda : -20000\n"
     ]
    }
   ],
   "metadata": {}
  },
  {
   "cell_type": "markdown",
   "source": [
    "<h1> LOOPING"
   ],
   "metadata": {}
  },
  {
   "cell_type": "code",
   "execution_count": 44,
   "source": [
    "# while\n",
    "x = 1\n",
    "while x<=10:\n",
    "    print(x)\n",
    "    x = x+1\n",
    "    "
   ],
   "outputs": [
    {
     "output_type": "stream",
     "name": "stdout",
     "text": [
      "1\n",
      "2\n",
      "3\n",
      "4\n",
      "5\n",
      "6\n",
      "7\n",
      "8\n",
      "9\n",
      "10\n"
     ]
    }
   ],
   "metadata": {}
  },
  {
   "cell_type": "code",
   "execution_count": 59,
   "source": [
    "for i in range(0,10,1):\n",
    "    print(i)"
   ],
   "outputs": [
    {
     "output_type": "stream",
     "name": "stdout",
     "text": [
      "0\n",
      "1\n",
      "2\n",
      "3\n",
      "4\n",
      "5\n",
      "6\n",
      "7\n",
      "8\n",
      "9\n"
     ]
    }
   ],
   "metadata": {}
  },
  {
   "cell_type": "code",
   "execution_count": 60,
   "source": [
    "for i in range(1,5,1):\n",
    "    print(i)"
   ],
   "outputs": [
    {
     "output_type": "stream",
     "name": "stdout",
     "text": [
      "A\n",
      "L\n",
      "D\n",
      "O\n",
      "s\n"
     ]
    }
   ],
   "metadata": {}
  },
  {
   "cell_type": "markdown",
   "source": [
    "<h2> Exercise LOOP soal 1"
   ],
   "metadata": {}
  },
  {
   "cell_type": "code",
   "execution_count": 65,
   "source": [
    "inputLoop = int(input(\"Masukkan Jumlah loop :\"))\n",
    "for i in range(1, inputLoop+1):\n",
    "  print ('' * (inputLoop - i), '* ' * i)"
   ],
   "outputs": [
    {
     "output_type": "stream",
     "name": "stdout",
     "text": [
      "0\n",
      "1\n",
      "2\n",
      "3\n",
      "4\n"
     ]
    }
   ],
   "metadata": {}
  },
  {
   "cell_type": "markdown",
   "source": [
    "<h2> Exercise LOOP soal 2"
   ],
   "metadata": {}
  },
  {
   "cell_type": "code",
   "execution_count": 94,
   "source": [
    "inputLoop = 5\n",
    "# for i in range(1, inputLoop+1):\n",
    "#   print ('' * (inputLoop - i), '* ' * i)\n",
    "for i in range(1, inputLoop+1):\n",
    "  print ('' * (inputLoop - i), '* ' * i)\n"
   ],
   "outputs": [
    {
     "output_type": "stream",
     "name": "stdout",
     "text": [
      " * \n",
      " * * \n",
      " * * * \n",
      " * * * * \n",
      " * * * * * \n"
     ]
    }
   ],
   "metadata": {}
  },
  {
   "cell_type": "code",
   "execution_count": null,
   "source": [],
   "outputs": [],
   "metadata": {}
  },
  {
   "cell_type": "code",
   "execution_count": null,
   "source": [],
   "outputs": [],
   "metadata": {}
  },
  {
   "cell_type": "code",
   "execution_count": null,
   "source": [],
   "outputs": [],
   "metadata": {}
  }
 ],
 "metadata": {
  "orig_nbformat": 4,
  "language_info": {
   "name": "python",
   "version": "3.8.9",
   "mimetype": "text/x-python",
   "codemirror_mode": {
    "name": "ipython",
    "version": 3
   },
   "pygments_lexer": "ipython3",
   "nbconvert_exporter": "python",
   "file_extension": ".py"
  },
  "kernelspec": {
   "name": "python3",
   "display_name": "Python 3.8.9 64-bit"
  },
  "interpreter": {
   "hash": "31f2aee4e71d21fbe5cf8b01ff0e069b9275f58929596ceb00d14d90e3e16cd6"
  }
 },
 "nbformat": 4,
 "nbformat_minor": 2
}